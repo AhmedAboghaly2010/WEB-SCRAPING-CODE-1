{
 "cells": [
  {
   "cell_type": "markdown",
   "id": "ff3a34bd",
   "metadata": {},
   "source": [
    "# أفضل كود حتى الان"
   ]
  },
  {
   "cell_type": "code",
   "execution_count": 1,
   "id": "af8ed70e",
   "metadata": {},
   "outputs": [],
   "source": [
    "import requests\n",
    "import csv\n",
    "from bs4 import BeautifulSoup\n",
    "\n",
    "# تحديد عنوان صفحة الويب\n",
    "url = \"https://www.ebrd.com/work-with-us/procurement/notices.html\"\n",
    "\n",
    "# إرسال طلب GET للحصول على صفحة الويب\n",
    "response = requests.get(url)\n",
    "\n",
    "# تحويل النص الخام إلى كائن BeautifulSoup\n",
    "soup = BeautifulSoup(response.content, 'html.parser')\n",
    "\n",
    "# العثور على عنصر \"div\" بصنف \"content-wrapper\"\n",
    "content_wrapper = soup.find('div', {'class': 'content-wrapper'})\n",
    "\n",
    "# العثور على الجدول داخل العنصر \"div\" بصنف \"content-wrapper\"\n",
    "table = content_wrapper.find('table')\n",
    "\n",
    "\n",
    "# فتح ملف CSV\n",
    "with open('data1.csv', mode='w', newline='') as csv_file:\n",
    "    # تحديد عناوين الأعمدة\n",
    "    fieldnames = ['Issue Date', 'Closing Date', 'Location', 'Project Name', 'Sector', 'Contract Type','link']\n",
    "    writer = csv.DictWriter(csv_file, fieldnames=fieldnames)\n",
    "\n",
    "    # كتابة عناوين الأعمدة في الملف CSV\n",
    "    writer.writeheader()\n",
    "\n",
    "    # العثور على جميع الصفوف داخل الجدول\n",
    "    rows = table.find_all('tr')[1:]  # تجاهل الصف الأول الذي يحتوي على عناوين الأعمدة\n",
    "\n",
    "    # كتابة البيانات في الملف CSV\n",
    "    for row in rows:\n",
    "        # استخراج البيانات من الصف\n",
    "        cells = row.find_all('td')\n",
    "        issue_date = cells[0].get_text().strip()\n",
    "        closing_date = cells[1].get_text().strip()\n",
    "        location = cells[2].get_text().strip()\n",
    "        project_name = cells[3].get_text().strip()\n",
    "        sector = cells[4].get_text().strip()\n",
    "        contract_type = cells[5].get_text().strip()\n",
    "        link = cells[6].find('a')\n",
    "        for i in row:\n",
    "            link = cells[3].find('a').get('href') # استخراج رابط الصفحة الفعليةاستخراج رابط الصفحة الفعلية\n",
    "\n",
    "        # كتابة البيانات في الملف CSV\n",
    "        writer.writerow({'Issue Date': issue_date, 'Closing Date': closing_date, 'Location': location, 'Project Name': project_name, 'Sector': sector, 'Contract Type': contract_type,\"link\":link})"
   ]
  },
  {
   "cell_type": "code",
   "execution_count": null,
   "id": "6355c12e",
   "metadata": {},
   "outputs": [],
   "source": []
  },
  {
   "cell_type": "code",
   "execution_count": null,
   "id": "9f8a62ef",
   "metadata": {},
   "outputs": [],
   "source": []
  },
  {
   "cell_type": "code",
   "execution_count": null,
   "id": "8f151542",
   "metadata": {},
   "outputs": [],
   "source": []
  }
 ],
 "metadata": {
  "kernelspec": {
   "display_name": "Python 3 (ipykernel)",
   "language": "python",
   "name": "python3"
  },
  "language_info": {
   "codemirror_mode": {
    "name": "ipython",
    "version": 3
   },
   "file_extension": ".py",
   "mimetype": "text/x-python",
   "name": "python",
   "nbconvert_exporter": "python",
   "pygments_lexer": "ipython3",
   "version": "3.10.9"
  }
 },
 "nbformat": 4,
 "nbformat_minor": 5
}
